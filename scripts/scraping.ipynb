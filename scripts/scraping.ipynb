{
 "cells": [
  {
   "cell_type": "code",
   "execution_count": 13,
   "metadata": {
    "collapsed": true
   },
   "outputs": [],
   "source": [
    "from bs4 import BeautifulSoup\n",
    "import requests\n",
    "from pprint import pprint"
   ]
  },
  {
   "cell_type": "code",
   "execution_count": 9,
   "outputs": [],
   "source": [
    "req_headers = {\n",
    "    'accept': 'text/html,application/xhtml+xml,application/xml;q=0.9,image/webp,image/apng,*/*;q=0.8',\n",
    "    'accept-encoding': 'gzip, deflate, br',\n",
    "    'accept-language': 'en-US,en;q=0.8',\n",
    "    'upgrade-insecure-requests': '1',\n",
    "    'user-agent': 'Mozilla/5.0 (Windows NT 10.0; Win64; x64) AppleWebKit/537.36 (KHTML, like Gecko) '\n",
    "                  'Chrome/61.0.3163.100 Safari/537.36'\n",
    "}\n",
    "\n",
    "city = 'los-angeles-ca'  # Need better locations, gps coords and ranges?"
   ],
   "metadata": {
    "collapsed": false,
    "pycharm": {
     "name": "#%%\n"
    }
   }
  },
  {
   "cell_type": "code",
   "execution_count": 19,
   "outputs": [
    {
     "name": "stdout",
     "output_type": "stream",
     "text": [
      "[<div class=\"list-card-price\">$793,900</div>,\n",
      " <div class=\"list-card-price\">$511,900</div>,\n",
      " <div class=\"list-card-price\">$847,900</div>,\n",
      " <div class=\"list-card-price\">$980,900</div>,\n",
      " <div class=\"list-card-price\">$849,900</div>,\n",
      " <div class=\"list-card-price\">$1,032,900</div>,\n",
      " <div class=\"list-card-price\">$1,299,900</div>,\n",
      " <div class=\"list-card-price\">$1,179,000</div>,\n",
      " <div class=\"list-card-price\">$630,900</div>,\n",
      " <div class=\"list-card-price\">$793,900</div>,\n",
      " <div class=\"list-card-price\">$511,900</div>,\n",
      " <div class=\"list-card-price\">$847,900</div>,\n",
      " <div class=\"list-card-price\">$980,900</div>,\n",
      " <div class=\"list-card-price\">$849,900</div>,\n",
      " <div class=\"list-card-price\">$1,032,900</div>,\n",
      " <div class=\"list-card-price\">$1,299,900</div>,\n",
      " <div class=\"list-card-price\">$1,179,000</div>,\n",
      " <div class=\"list-card-price\">$630,900</div>,\n",
      " <div class=\"list-card-price\">$793,900</div>,\n",
      " <div class=\"list-card-price\">$511,900</div>,\n",
      " <div class=\"list-card-price\">$847,900</div>,\n",
      " <div class=\"list-card-price\">$980,900</div>,\n",
      " <div class=\"list-card-price\">$849,900</div>,\n",
      " <div class=\"list-card-price\">$1,032,900</div>,\n",
      " <div class=\"list-card-price\">$1,299,900</div>,\n",
      " <div class=\"list-card-price\">$1,179,000</div>,\n",
      " <div class=\"list-card-price\">$630,900</div>,\n",
      " <div class=\"list-card-price\">$3,279,000</div>,\n",
      " <div class=\"list-card-price\">$1,195,000</div>,\n",
      " <div class=\"list-card-price\">$419,000</div>,\n",
      " <div class=\"list-card-price\">$2,185,000</div>,\n",
      " <div class=\"list-card-price\">$8,495,000</div>,\n",
      " <div class=\"list-card-price\">$189,000</div>,\n",
      " <div class=\"list-card-price\">$2,890,000</div>,\n",
      " <div class=\"list-card-price\">$1,479,000</div>,\n",
      " <div class=\"list-card-price\">$795,000</div>,\n",
      " <div class=\"list-card-price\">$3,279,000</div>,\n",
      " <div class=\"list-card-price\">$1,195,000</div>,\n",
      " <div class=\"list-card-price\">$419,000</div>,\n",
      " <div class=\"list-card-price\">$2,185,000</div>,\n",
      " <div class=\"list-card-price\">$8,495,000</div>,\n",
      " <div class=\"list-card-price\">$189,000</div>,\n",
      " <div class=\"list-card-price\">$2,890,000</div>,\n",
      " <div class=\"list-card-price\">$1,479,000</div>,\n",
      " <div class=\"list-card-price\">$795,000</div>,\n",
      " <div class=\"list-card-price\">$3,279,000</div>,\n",
      " <div class=\"list-card-price\">$1,195,000</div>,\n",
      " <div class=\"list-card-price\">$419,000</div>,\n",
      " <div class=\"list-card-price\">$2,185,000</div>,\n",
      " <div class=\"list-card-price\">$8,495,000</div>,\n",
      " <div class=\"list-card-price\">$189,000</div>,\n",
      " <div class=\"list-card-price\">$2,890,000</div>,\n",
      " <div class=\"list-card-price\">$1,479,000</div>,\n",
      " <div class=\"list-card-price\">$795,000</div>,\n",
      " <div class=\"list-card-price\">$829,000</div>,\n",
      " <div class=\"list-card-price\">$90,000,000</div>,\n",
      " <div class=\"list-card-price\">$625,000</div>,\n",
      " <div class=\"list-card-price\">$6,499,900</div>,\n",
      " <div class=\"list-card-price\">$899,000</div>,\n",
      " <div class=\"list-card-price\">$710,000</div>,\n",
      " <div class=\"list-card-price\">$850,000</div>,\n",
      " <div class=\"list-card-price\">$24,950,000</div>,\n",
      " <div class=\"list-card-price\">$4,280,000</div>,\n",
      " <div class=\"list-card-price\">$829,000</div>,\n",
      " <div class=\"list-card-price\">$90,000,000</div>,\n",
      " <div class=\"list-card-price\">$625,000</div>,\n",
      " <div class=\"list-card-price\">$6,499,900</div>,\n",
      " <div class=\"list-card-price\">$899,000</div>,\n",
      " <div class=\"list-card-price\">$710,000</div>,\n",
      " <div class=\"list-card-price\">$850,000</div>,\n",
      " <div class=\"list-card-price\">$24,950,000</div>,\n",
      " <div class=\"list-card-price\">$4,280,000</div>,\n",
      " <div class=\"list-card-price\">$829,000</div>,\n",
      " <div class=\"list-card-price\">$90,000,000</div>,\n",
      " <div class=\"list-card-price\">$625,000</div>,\n",
      " <div class=\"list-card-price\">$6,499,900</div>,\n",
      " <div class=\"list-card-price\">$899,000</div>,\n",
      " <div class=\"list-card-price\">$710,000</div>,\n",
      " <div class=\"list-card-price\">$850,000</div>,\n",
      " <div class=\"list-card-price\">$24,950,000</div>,\n",
      " <div class=\"list-card-price\">$4,280,000</div>]\n"
     ]
    }
   ],
   "source": [
    "pages = 3\n",
    "prices = []\n",
    "with requests.Session() as session:\n",
    "\t# Multiple pages (find out num returned per page)\n",
    "\tfor i in range(1, pages+1):\n",
    "\t\turl = f'https://www.zillow.com/homes/for_sale/{city}/3-_beds/2.0-_baths/{i}_p/'\n",
    "\t\tresponse = session.get(url, headers=req_headers)\n",
    "\t\tsoup = BeautifulSoup(response.text, \"html.parser\")\n",
    "\t\tfor j in enumerate(soup):\n",
    "\t\t    prices.extend(list(soup.find_all (class_='list-card-price')))\n",
    "pprint(prices)"
   ],
   "metadata": {
    "collapsed": false,
    "pycharm": {
     "name": "#%%\n"
    }
   }
  },
  {
   "cell_type": "code",
   "execution_count": null,
   "outputs": [],
   "source": [],
   "metadata": {
    "collapsed": false,
    "pycharm": {
     "name": "#%%\n"
    }
   }
  }
 ],
 "metadata": {
  "kernelspec": {
   "display_name": "Python 3",
   "language": "python",
   "name": "python3"
  },
  "language_info": {
   "codemirror_mode": {
    "name": "ipython",
    "version": 2
   },
   "file_extension": ".py",
   "mimetype": "text/x-python",
   "name": "python",
   "nbconvert_exporter": "python",
   "pygments_lexer": "ipython2",
   "version": "2.7.6"
  }
 },
 "nbformat": 4,
 "nbformat_minor": 0
}